{
 "cells": [
  {
   "cell_type": "code",
   "id": "initial_id",
   "metadata": {
    "collapsed": true,
    "ExecuteTime": {
     "end_time": "2025-09-29T02:33:08.328580Z",
     "start_time": "2025-09-29T02:33:08.325405Z"
    }
   },
   "source": [
    "import heapq\n",
    "import networkx as nx\n",
    "from math import ceil"
   ],
   "outputs": [],
   "execution_count": 6
  },
  {
   "metadata": {
    "ExecuteTime": {
     "end_time": "2025-09-29T02:33:09.613297Z",
     "start_time": "2025-09-29T02:33:09.604394Z"
    }
   },
   "cell_type": "code",
   "source": [
    "main_graph = nx.read_graphml(\"grafo_ponte_tocha.graphml\")\n",
    "main_crossing_times = {'A': 1, 'B': 2, 'C': 5, 'D': 10}"
   ],
   "id": "2bf60ad4e18e0391",
   "outputs": [],
   "execution_count": 7
  },
  {
   "metadata": {
    "ExecuteTime": {
     "end_time": "2025-09-29T02:33:13.242592Z",
     "start_time": "2025-09-29T02:33:13.237139Z"
    }
   },
   "cell_type": "code",
   "source": [
    "def parse_state(node_str: str):\n",
    "    \"\"\"\n",
    "    Convert a node string from GraphML into a state tuple.\n",
    "    Example: \"inicio=ABCD|tocha=inicio\" -> (frozenset({'A','B','C','D'}), 'inicio')\n",
    "    \"\"\"\n",
    "    left, right = node_str.split(\"|\")\n",
    "    people_str = left.split(\"=\")[1].strip()\n",
    "    torch_pos = right.split(\"=\")[1].strip()\n",
    "\n",
    "    if people_str == \"VAZIO\":\n",
    "        people = frozenset()\n",
    "    else:\n",
    "        people = frozenset(list(people_str))\n",
    "\n",
    "    return (people, torch_pos)"
   ],
   "id": "75da8240b25e69e4",
   "outputs": [],
   "execution_count": 8
  },
  {
   "metadata": {
    "ExecuteTime": {
     "end_time": "2025-09-29T02:33:15.203364Z",
     "start_time": "2025-09-29T02:33:15.198277Z"
    }
   },
   "cell_type": "code",
   "source": [
    "def a_star(graph: nx.DiGraph, start: str, goal: str, heuristic):\n",
    "    \"\"\"\n",
    "    A* algorithm for NetworkX graphs.\n",
    "    :param graph: NetworkX graph (nx.Graph ou nx.DiGraph)\n",
    "    :param start: Initial node\n",
    "    :param goal: Goal node\n",
    "    :param heuristic: Heuristic function h(node)\n",
    "    :return: (path, total_cost) or (None, inf) if there is no solution\n",
    "    \"\"\"\n",
    "\n",
    "    # frontier = priority queue of (f, g, path)\n",
    "    frontier = []\n",
    "    heapq.heappush(frontier, (heuristic(parse_state(start)), 0, [start]))\n",
    "\n",
    "    # known accumulated costs\n",
    "    g_cost = {start: 0}\n",
    "\n",
    "    while frontier:\n",
    "        f, g, path = heapq.heappop(frontier)\n",
    "        current = path[-1]\n",
    "\n",
    "        # check goal\n",
    "        if current == goal:\n",
    "            return path, g\n",
    "\n",
    "        # expand neighbors\n",
    "        for neighbor in graph.neighbors(current):\n",
    "            # edge cost\n",
    "            edge_cost = graph[current][neighbor].get(\"weight\")\n",
    "            new_g = g + edge_cost\n",
    "\n",
    "            if neighbor not in g_cost or new_g < g_cost[neighbor]:\n",
    "                g_cost[neighbor] = new_g\n",
    "                new_f = new_g + heuristic(parse_state(neighbor))\n",
    "                new_path = path + [neighbor]\n",
    "                heapq.heappush(frontier, (new_f, new_g, new_path))\n",
    "\n",
    "    return None, float(\"inf\")\n",
    "\n",
    "def heuristic_func(state):\n",
    "    \"\"\"\n",
    "    Admissible heuristic for the Bridge and Torch problem.\n",
    "    :param state: (frozenset of people on the start side, torch position)\n",
    "    :return: heuristic estimate of the remaining cost\n",
    "    \"\"\"\n",
    "    people_start, _ = state\n",
    "    m = len(people_start)\n",
    "    if m == 0:\n",
    "        return 0\n",
    "\n",
    "    slowest = max(main_crossing_times[p] for p in people_start)\n",
    "    fastest = min(main_crossing_times.values())\n",
    "\n",
    "    needed_forward = ceil(m / 2) # minimum number of forward crossings\n",
    "    min_returns = max(0, needed_forward - 1) # minimum number of returns\n",
    "    estimated_returns = min_returns * fastest\n",
    "\n",
    "    return max(slowest, estimated_returns)"
   ],
   "id": "e6a18eed2ac44ce4",
   "outputs": [],
   "execution_count": 9
  },
  {
   "metadata": {
    "ExecuteTime": {
     "end_time": "2025-09-29T02:37:50.205171Z",
     "start_time": "2025-09-29T02:37:50.199794Z"
    }
   },
   "cell_type": "code",
   "source": [
    "start_str = \"inicio=ABCD|tocha=inicio\"\n",
    "goal_str = \"inicio=VAZIO|tocha=final\"\n",
    "\n",
    "if start_str not in main_graph or goal_str not in main_graph:\n",
    "    raise ValueError(\"Start or Goal not in graph.\")\n",
    "\n",
    "final_path, final_cost = a_star(graph=main_graph, start=start_str, goal=goal_str, heuristic=heuristic_func)\n",
    "print(f\"Caminho: {final_path}\")\n",
    "print(f\"Custo total: {final_cost}\")"
   ],
   "id": "c44a778eda313f3d",
   "outputs": [
    {
     "name": "stdout",
     "output_type": "stream",
     "text": [
      "Caminho: ['inicio=ABCD|tocha=inicio', 'inicio=CD|tocha=final', 'inicio=ACD|tocha=inicio', 'inicio=A|tocha=final', 'inicio=AB|tocha=inicio', 'inicio=VAZIO|tocha=final']\n",
      "Custo total: 17\n"
     ]
    }
   ],
   "execution_count": 27
  }
 ],
 "metadata": {
  "kernelspec": {
   "display_name": "Python 3",
   "language": "python",
   "name": "python3"
  },
  "language_info": {
   "codemirror_mode": {
    "name": "ipython",
    "version": 2
   },
   "file_extension": ".py",
   "mimetype": "text/x-python",
   "name": "python",
   "nbconvert_exporter": "python",
   "pygments_lexer": "ipython2",
   "version": "2.7.6"
  }
 },
 "nbformat": 4,
 "nbformat_minor": 5
}
