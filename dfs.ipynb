{
 "nbformat": 4,
 "nbformat_minor": 0,
 "metadata": {
  "colab": {
   "provenance": []
  },
  "kernelspec": {
   "name": "python3",
   "display_name": "Python 3"
  },
  "language_info": {
   "name": "python"
  }
 },
 "cells": [
  {
   "cell_type": "markdown",
   "source": [
    "# Trabalho 1 - Problema da Ponte e da Tocha"
   ],
   "metadata": {
    "id": "X9RPSovX3g3J"
   }
  },
  {
   "cell_type": "markdown",
   "source": [
    "### Resolução de problema usando DFS"
   ],
   "metadata": {
    "id": "3t1RJWMN3nfa"
   }
  },
  {
   "cell_type": "code",
   "source": [
    "import networkx as nx\n",
    "import time"
   ],
   "metadata": {
    "id": "13SO9IkF37lB",
    "ExecuteTime": {
     "end_time": "2025-10-01T00:18:37.650729Z",
     "start_time": "2025-10-01T00:18:37.540625Z"
    }
   },
   "outputs": [],
   "execution_count": 1
  },
  {
   "cell_type": "code",
   "source": [
    "Graph = nx.read_graphml(\"grafo_ponte_tocha.graphml\")"
   ],
   "metadata": {
    "id": "I-naHG_N38wn",
    "ExecuteTime": {
     "end_time": "2025-10-01T00:18:37.786813Z",
     "start_time": "2025-10-01T00:18:37.716859Z"
    }
   },
   "outputs": [],
   "execution_count": 2
  },
  {
   "cell_type": "code",
   "source": [
    "def dfs(grafo, estado_inicial, estado_objetivo, limit=10000):\n",
    "    pilha = [(estado_inicial, [estado_inicial])]\n",
    "    visitados = set()\n",
    "\n",
    "    while pilha:\n",
    "        estado_atual, caminho = pilha.pop()\n",
    "\n",
    "        if estado_atual in visitados:\n",
    "            continue\n",
    "        visitados.add(estado_atual)\n",
    "\n",
    "        if estado_atual == estado_objetivo:\n",
    "            return caminho, visitados\n",
    "\n",
    "        if len(visitados) > limit:\n",
    "            print(\"Limite de nós atingido.\")\n",
    "            break\n",
    "\n",
    "        for vizinho in grafo.neighbors(estado_atual):\n",
    "            if vizinho not in visitados:\n",
    "                pilha.append((vizinho, caminho + [vizinho]))\n",
    "\n",
    "    return None, visitados"
   ],
   "metadata": {
    "id": "2KbIwiRp4KzP",
    "ExecuteTime": {
     "end_time": "2025-10-01T00:18:37.852027Z",
     "start_time": "2025-10-01T00:18:37.845804Z"
    }
   },
   "outputs": [],
   "execution_count": 3
  },
  {
   "cell_type": "code",
   "source": [
    "estado_inicial = \"inicio=ABCD|tocha=inicio\"\n",
    "estado_objetivo = \"inicio=VAZIO|tocha=final\""
   ],
   "metadata": {
    "id": "J165UORa4Pd5",
    "ExecuteTime": {
     "end_time": "2025-10-01T00:18:37.901678Z",
     "start_time": "2025-10-01T00:18:37.897868Z"
    }
   },
   "outputs": [],
   "execution_count": 4
  },
  {
   "cell_type": "code",
   "source": [
    "start_time = time.time()\n",
    "caminho, visitados = dfs(Graph, estado_inicial, estado_objetivo)\n",
    "end_time = time.time()\n",
    "duration = end_time - start_time"
   ],
   "metadata": {
    "id": "v4ZbLRX54Q8c",
    "ExecuteTime": {
     "end_time": "2025-10-01T00:18:37.981987Z",
     "start_time": "2025-10-01T00:18:37.975413Z"
    }
   },
   "outputs": [],
   "execution_count": 5
  },
  {
   "cell_type": "code",
   "source": [
    "print(\"Caminho encontrado pela DFS:\")\n",
    "print(caminho)\n",
    "print(\"\\nNúmero de nós visitados:\", len(visitados))\n",
    "print(f\"Tempo de execução: {duration}\")"
   ],
   "metadata": {
    "colab": {
     "base_uri": "https://localhost:8080/"
    },
    "id": "6dKWo2M_4SR4",
    "outputId": "84ef8da5-e96d-44d7-8ca9-ce00162e03cb",
    "ExecuteTime": {
     "end_time": "2025-10-01T00:18:38.060578Z",
     "start_time": "2025-10-01T00:18:38.052020Z"
    }
   },
   "outputs": [
    {
     "name": "stdout",
     "output_type": "stream",
     "text": [
      "Caminho encontrado pela DFS:\n",
      "['inicio=ABCD|tocha=inicio', 'inicio=CD|tocha=final', 'inicio=BCD|tocha=inicio', 'inicio=C|tocha=final', 'inicio=BC|tocha=inicio', 'inicio=VAZIO|tocha=final']\n",
      "\n",
      "Número de nós visitados: 6\n",
      "Tempo de execução: 0.00022268295288085938\n"
     ]
    }
   ],
   "execution_count": 6
  }
 ]
}
