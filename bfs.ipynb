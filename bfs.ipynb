{
 "nbformat": 4,
 "nbformat_minor": 0,
 "metadata": {
  "colab": {
   "provenance": []
  },
  "kernelspec": {
   "name": "python3",
   "display_name": "Python 3"
  },
  "language_info": {
   "name": "python"
  }
 },
 "cells": [
  {
   "cell_type": "code",
   "metadata": {
    "id": "BPiF7dn1SVxR",
    "ExecuteTime": {
     "end_time": "2025-10-01T00:15:59.522888Z",
     "start_time": "2025-10-01T00:15:59.328226Z"
    }
   },
   "source": [
    "import networkx as nx\n",
    "from collections import deque\n",
    "import time\n",
    "\n",
    "grafo = nx.read_graphml(\"grafo_ponte_tocha.graphml\")"
   ],
   "outputs": [],
   "execution_count": 1
  },
  {
   "cell_type": "code",
   "source": [
    "def busca_bfs(grafo, estado_inicial, estado_objetivo, limite=10000):\n",
    "    fila = deque([(estado_inicial, [estado_inicial])])\n",
    "    visitados = set()\n",
    "\n",
    "    while fila:\n",
    "        estado_atual, caminho = fila.popleft()\n",
    "\n",
    "        if estado_atual in visitados:\n",
    "            continue\n",
    "        visitados.add(estado_atual)\n",
    "\n",
    "        if estado_atual == estado_objetivo:\n",
    "            return caminho, visitados\n",
    "\n",
    "        if len(visitados) > limite:\n",
    "            print(\"Limite de nós atingido.\")\n",
    "            break\n",
    "\n",
    "        for vizinho in grafo.neighbors(estado_atual):\n",
    "            if vizinho not in visitados:\n",
    "                fila.append((vizinho, caminho + [vizinho]))\n",
    "\n",
    "    return None, visitados"
   ],
   "metadata": {
    "id": "6vyEoTyUSkus",
    "ExecuteTime": {
     "end_time": "2025-10-01T00:15:59.626605Z",
     "start_time": "2025-10-01T00:15:59.622227Z"
    }
   },
   "outputs": [],
   "execution_count": 2
  },
  {
   "cell_type": "code",
   "source": [
    "estado_inicial = \"inicio=ABCD|tocha=inicio\"\n",
    "estado_objetivo = \"inicio=VAZIO|tocha=final\""
   ],
   "metadata": {
    "id": "VD-nb3gCS8YB",
    "ExecuteTime": {
     "end_time": "2025-10-01T00:15:59.699250Z",
     "start_time": "2025-10-01T00:15:59.694444Z"
    }
   },
   "outputs": [],
   "execution_count": 3
  },
  {
   "cell_type": "code",
   "source": [
    "start_time = time.time()\n",
    "caminho, visitados = busca_bfs(grafo, estado_inicial, estado_objetivo)\n",
    "end_time = time.time()\n",
    "duration = end_time - start_time"
   ],
   "metadata": {
    "id": "Ve6-nd50S9ik",
    "ExecuteTime": {
     "end_time": "2025-10-01T00:15:59.774255Z",
     "start_time": "2025-10-01T00:15:59.768354Z"
    }
   },
   "outputs": [],
   "execution_count": 4
  },
  {
   "cell_type": "code",
   "source": [
    "print(\"Caminho encontrado pela BFS:\")\n",
    "print(caminho)\n",
    "print(\"\\nNúmero de nós visitados:\", len(visitados))\n",
    "print(f\"Tempo de execução: {duration}\")"
   ],
   "metadata": {
    "colab": {
     "base_uri": "https://localhost:8080/"
    },
    "id": "WKyn66FcTBD9",
    "outputId": "7f60610e-8c88-4417-c756-43066ef82548",
    "ExecuteTime": {
     "end_time": "2025-10-01T00:15:59.836391Z",
     "start_time": "2025-10-01T00:15:59.830549Z"
    }
   },
   "outputs": [
    {
     "name": "stdout",
     "output_type": "stream",
     "text": [
      "Caminho encontrado pela BFS:\n",
      "['inicio=ABCD|tocha=inicio', 'inicio=AB|tocha=final', 'inicio=ABC|tocha=inicio', 'inicio=B|tocha=final', 'inicio=BC|tocha=inicio', 'inicio=VAZIO|tocha=final']\n",
      "\n",
      "Número de nós visitados: 22\n",
      "Tempo de execução: 0.00028133392333984375\n"
     ]
    }
   ],
   "execution_count": 5
  }
 ]
}
