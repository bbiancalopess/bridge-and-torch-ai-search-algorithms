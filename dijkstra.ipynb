{
 "cells": [
  {
   "cell_type": "code",
   "id": "e428cf50",
   "metadata": {
    "ExecuteTime": {
     "end_time": "2025-09-29T01:26:25.260780Z",
     "start_time": "2025-09-29T01:26:25.102762Z"
    }
   },
   "source": [
    "# Import de bibliotecas\n",
    "import networkx as nx\n",
    "from heapq import heappop, heappush"
   ],
   "outputs": [],
   "execution_count": 1
  },
  {
   "cell_type": "code",
   "id": "b94a8883",
   "metadata": {
    "ExecuteTime": {
     "end_time": "2025-09-29T01:26:34.810Z",
     "start_time": "2025-09-29T01:26:34.620349Z"
    }
   },
   "source": [
    "Graph = nx.read_graphml(\"grafo_ponte_tocha.graphml\")\n"
   ],
   "outputs": [],
   "execution_count": 2
  },
  {
   "cell_type": "code",
   "id": "965426e8",
   "metadata": {
    "ExecuteTime": {
     "end_time": "2025-09-29T01:27:35.801831Z",
     "start_time": "2025-09-29T01:27:35.789853Z"
    }
   },
   "source": [
    "def dijkstra(graph, start):\n",
    "    distancia = {vertex: float('inf') for vertex in Graph.nodes()}\n",
    "    predecessor = {vertex: None for vertex in Graph.nodes()}\n",
    "    distancia[start] = 0\n",
    "\n",
    "    pq = [(0, start)]\n",
    "    while pq:\n",
    "        v = heappop(pq)[1]\n",
    "\n",
    "        for u in graph.neighbors(v):\n",
    "            if distancia[u] > distancia[v] + graph[v][u]['weight']:\n",
    "                distancia[u] = distancia[v] + graph[v][u]['weight']\n",
    "                predecessor[u] = v\n",
    "                heappush(pq, (distancia[u], u))\n",
    "\n",
    "    return distancia, predecessor\n"
   ],
   "outputs": [],
   "execution_count": 3
  },
  {
   "cell_type": "code",
   "id": "d956d63e",
   "metadata": {
    "ExecuteTime": {
     "end_time": "2025-09-29T01:27:39.163457Z",
     "start_time": "2025-09-29T01:27:39.157066Z"
    }
   },
   "source": [
    "def reconstruct_path(predecessor, start, end):\n",
    "    path = []\n",
    "    current = end\n",
    "    while current is not None:\n",
    "        path.append(current)\n",
    "        current = predecessor[current]\n",
    "    path.reverse()\n",
    "    return path if path[0] == start else []"
   ],
   "outputs": [],
   "execution_count": 4
  },
  {
   "cell_type": "code",
   "id": "74d70606",
   "metadata": {
    "ExecuteTime": {
     "end_time": "2025-09-29T01:32:47.389127Z",
     "start_time": "2025-09-29T01:27:43.817219Z"
    }
   },
   "source": [
    "distancia, predecessor = dijkstra(Graph, \"inicio=ABCD|tocha=inicio\")\n",
    "path = reconstruct_path(predecessor, \"inicio=ABCD|tocha=inicio\", \"inicio=VAZIO|tocha=final\")\n",
    "print(path)"
   ],
   "outputs": [
    {
     "name": "stdout",
     "output_type": "stream",
     "text": [
      "['inicio=ABCD|tocha=inicio', 'inicio=CD|tocha=final', 'inicio=ACD|tocha=inicio', 'inicio=A|tocha=final', 'inicio=AB|tocha=inicio', 'inicio=VAZIO|tocha=final']\n"
     ]
    }
   ],
   "execution_count": 5
  },
  {
   "cell_type": "code",
   "id": "ebe23e6c",
   "metadata": {
    "ExecuteTime": {
     "end_time": "2025-09-29T01:32:56.151127Z",
     "start_time": "2025-09-29T01:32:56.140505Z"
    }
   },
   "source": [
    "distancia"
   ],
   "outputs": [
    {
     "data": {
      "text/plain": [
       "{'inicio=ABCD|tocha=inicio': 0,\n",
       " 'inicio=AB|tocha=final': 10,\n",
       " 'inicio=BC|tocha=final': 10,\n",
       " 'inicio=AC|tocha=final': 10,\n",
       " 'inicio=BD|tocha=final': 5,\n",
       " 'inicio=AD|tocha=final': 5,\n",
       " 'inicio=CD|tocha=final': 2,\n",
       " 'inicio=ABC|tocha=inicio': 11,\n",
       " 'inicio=ABD|tocha=inicio': 6,\n",
       " 'inicio=BCD|tocha=inicio': 4,\n",
       " 'inicio=ACD|tocha=inicio': 3,\n",
       " 'inicio=B|tocha=final': 14,\n",
       " 'inicio=A|tocha=final': 13,\n",
       " 'inicio=C|tocha=final': 13,\n",
       " 'inicio=D|tocha=final': 8,\n",
       " 'inicio=BC|tocha=inicio': 15,\n",
       " 'inicio=BD|tocha=inicio': 10,\n",
       " 'inicio=AB|tocha=inicio': 15,\n",
       " 'inicio=AC|tocha=inicio': 14,\n",
       " 'inicio=AD|tocha=inicio': 9,\n",
       " 'inicio=CD|tocha=inicio': 13,\n",
       " 'inicio=VAZIO|tocha=final': 17}"
      ]
     },
     "execution_count": 6,
     "metadata": {},
     "output_type": "execute_result"
    }
   ],
   "execution_count": 6
  }
 ],
 "metadata": {
  "kernelspec": {
   "display_name": "Python 3",
   "language": "python",
   "name": "python3"
  },
  "language_info": {
   "codemirror_mode": {
    "name": "ipython",
    "version": 3
   },
   "file_extension": ".py",
   "mimetype": "text/x-python",
   "name": "python",
   "nbconvert_exporter": "python",
   "pygments_lexer": "ipython3",
   "version": "3.13.2"
  }
 },
 "nbformat": 4,
 "nbformat_minor": 5
}
